{
 "cells": [
  {
   "cell_type": "markdown",
   "metadata": {
    "id": "uhK8t5S34-tC"
   },
   "source": [
    "## Backpropagation"
   ]
  },
  {
   "cell_type": "markdown",
   "metadata": {},
   "source": [
    "### Part I. Classic"
   ]
  },
  {
   "cell_type": "markdown",
   "metadata": {},
   "source": [
    "Do a forward pass (calculate green values), and a backward pass (calculate gradients, red\n",
    "values)."
   ]
  },
  {
   "cell_type": "markdown",
   "metadata": {},
   "source": [
    "![title](HA4_backprop.png)"
   ]
  },
  {
   "metadata": {},
   "cell_type": "markdown",
   "source": [
    "# Forward and Backward Pass Solution\n",
    "\n",
    "## Given:\n",
    "- **Inputs:** $X_0 = -2.00$, $X_1 = 4.00$\n",
    "- **Weights:** $W_0 = 3.00$, $W_1 = -1.00$\n",
    "- **Activation:** $\\text{ReLU}(x) = \\max(0, x)$\n",
    "- **Initial gradient:** $\\frac{\\partial L}{\\partial L} = 1.0$\n",
    "\n",
    "---\n",
    "\n",
    "## Forward Pass\n",
    "\n",
    "### Step 1: Multiply inputs by weights\n",
    "\n",
    "$$s_0 = W_0 \\times X_0 = 3.00 \\times (-2.00) = -6.00$$\n",
    "\n",
    "$$s_1 = W_1 \\times X_1 = (-1.00) \\times 4.00 = -4.00$$\n",
    "\n",
    "### Step 2: Addition\n",
    "\n",
    "$$s_2 = s_0 + s_1 = (-6.00) + (-4.00) = -10.00$$\n",
    "\n",
    "### Step 3: ReLU activation\n",
    "\n",
    "$$L = \\text{ReLU}(s_2) = \\max(0, -10.00) = 0.00$$\n",
    "\n",
    "---\n",
    "\n",
    "## Backward Pass\n",
    "\n",
    "### Step 1: Initial gradient\n",
    "\n",
    "$$\\frac{\\partial L}{\\partial L} = 1.0$$\n",
    "\n",
    "### Step 2: Gradient through ReLU\n",
    "\n",
    "$$\\frac{\\partial L}{\\partial s_2} = \\frac{\\partial L}{\\partial L} \\times \\text{ReLU}'(s_2)$$\n",
    "\n",
    "Since $s_2 = -10.00 < 0$, we have $\\text{ReLU}'(s_2) = 0$:\n",
    "\n",
    "$$\\frac{\\partial L}{\\partial s_2} = 1.0 \\times 0 = 0.0$$\n",
    "\n",
    "### Step 3: Gradient through addition\n",
    "\n",
    "$$\\frac{\\partial L}{\\partial s_0} = \\frac{\\partial L}{\\partial s_2} = 0.0$$\n",
    "\n",
    "$$\\frac{\\partial L}{\\partial s_1} = \\frac{\\partial L}{\\partial s_2} = 0.0$$\n",
    "\n",
    "### Step 4: Gradient through multiplication (multiply gate)\n",
    "\n",
    "**Upper branch:**\n",
    "\n",
    "$$\\frac{\\partial L}{\\partial W_0} = \\frac{\\partial L}{\\partial s_0} \\times X_0 = 0.0 \\times (-2.00) = 0.00$$\n",
    "\n",
    "$$\\frac{\\partial L}{\\partial X_0} = \\frac{\\partial L}{\\partial s_0} \\times W_0 = 0.0 \\times 3.00 = 0.00$$\n",
    "\n",
    "**Lower branch:**\n",
    "\n",
    "$$\\frac{\\partial L}{\\partial W_1} = \\frac{\\partial L}{\\partial s_1} \\times X_1 = 0.0 \\times 4.00 = 0.00$$\n",
    "\n",
    "$$\\frac{\\partial L}{\\partial X_1} = \\frac{\\partial L}{\\partial s_1} \\times W_1 = 0.0 \\times (-1.00) = 0.00$$\n",
    "\n",
    "\n",
    "All gradients are zero because ReLU \"killed\" the gradient when $s_2 < 0$.\n"
   ]
  },
  {
   "cell_type": "markdown",
   "metadata": {},
   "source": [
    "### Part II. Some coding bits"
   ]
  },
  {
   "metadata": {
    "ExecuteTime": {
     "end_time": "2025-10-30T12:14:24.486631Z",
     "start_time": "2025-10-30T12:14:24.429693Z"
    }
   },
   "cell_type": "code",
   "source": "import numpy as np\n",
   "outputs": [],
   "execution_count": 1
  },
  {
   "cell_type": "code",
   "metadata": {
    "id": "t4X6fnzc4-tE",
    "ExecuteTime": {
     "end_time": "2025-10-30T12:14:25.942916Z",
     "start_time": "2025-10-30T12:14:25.940374Z"
    }
   },
   "source": [
    "def affine(x, w, b):\n",
    "    return w * x + b\n",
    "def sigmoid(z):\n",
    "    return 1.0 / (1.0 + np.exp(-z))\n",
    "def gaussian(x):\n",
    "    return np.exp(-x*x)\n",
    "def sigmoid_derivative(z):\n",
    "    return sigmoid(z) * (1 - sigmoid(z))\n",
    "def mse(y,yout):\n",
    "    return np.mean((y-yout)*(y-yout))"
   ],
   "outputs": [],
   "execution_count": 2
  },
  {
   "cell_type": "code",
   "metadata": {
    "id": "ZagPtUUC4-tE",
    "ExecuteTime": {
     "end_time": "2025-10-30T12:19:43.636410Z",
     "start_time": "2025-10-30T12:19:43.633060Z"
    }
   },
   "source": [
    "x = 1.\n",
    "actual = gaussian(x) # target value\n",
    "\n",
    "##### initialization\n",
    "\n",
    "w_1 = np.array([1., -1.])\n",
    "b_1 = np.array([1., 1.])\n",
    "\n",
    "w_2 = np.array([1., -1.])\n",
    "b_2 = np.array([1.])"
   ],
   "outputs": [],
   "execution_count": 8
  },
  {
   "cell_type": "code",
   "metadata": {
    "id": "tVHW57-s4-tF",
    "ExecuteTime": {
     "end_time": "2025-10-30T12:19:45.842662Z",
     "start_time": "2025-10-30T12:19:45.839785Z"
    }
   },
   "source": [
    "### do the forward pass of the network\n",
    "z_2, z_3 = 0, 0\n",
    "def forward():\n",
    "    global z_2, z_3\n",
    "    z_2 = affine(x, w_1, b_1)\n",
    "    h_1_2 = sigmoid(z_2)\n",
    "\n",
    "    z_3 =  np.sum(w_2 * h_1_2) + b_2[0]\n",
    "    out = z_3\n",
    "    return out, h_1_2"
   ],
   "outputs": [],
   "execution_count": 9
  },
  {
   "metadata": {
    "ExecuteTime": {
     "end_time": "2025-10-30T12:24:37.053076Z",
     "start_time": "2025-10-30T12:24:37.051083Z"
    }
   },
   "cell_type": "code",
   "source": "out, h_1_2 = forward()",
   "outputs": [],
   "execution_count": 21
  },
  {
   "cell_type": "code",
   "metadata": {
    "id": "xEg7k4_U4-tF",
    "ExecuteTime": {
     "end_time": "2025-10-30T12:19:55.150120Z",
     "start_time": "2025-10-30T12:19:55.147560Z"
    }
   },
   "source": "z_3",
   "outputs": [
    {
     "data": {
      "text/plain": [
       "np.float64(1.3807970779778822)"
      ]
     },
     "execution_count": 11,
     "metadata": {},
     "output_type": "execute_result"
    }
   ],
   "execution_count": 11
  },
  {
   "metadata": {
    "ExecuteTime": {
     "end_time": "2025-10-30T12:19:57.369803Z",
     "start_time": "2025-10-30T12:19:57.367093Z"
    }
   },
   "cell_type": "code",
   "source": "actual",
   "outputs": [
    {
     "data": {
      "text/plain": [
       "np.float64(0.36787944117144233)"
      ]
     },
     "execution_count": 12,
     "metadata": {},
     "output_type": "execute_result"
    }
   ],
   "execution_count": 12
  },
  {
   "cell_type": "markdown",
   "metadata": {
    "id": "sgbOPUKi4-tG"
   },
   "source": [
    "Is the output of the network close to the actual value?"
   ]
  },
  {
   "metadata": {},
   "cell_type": "markdown",
   "source": "output is not close to the actual value of the function."
  },
  {
   "cell_type": "code",
   "metadata": {
    "id": "ffImwKmA4-tG",
    "ExecuteTime": {
     "end_time": "2025-10-30T12:23:23.794846Z",
     "start_time": "2025-10-30T12:23:23.790803Z"
    }
   },
   "source": [
    "#### DERIVATIVES CALCULATION\n",
    "### enter your code here\n",
    "dL_dout = 2 * (out - actual)  # derivative of MSE loss\n",
    "\n",
    "dw_2 = dL_dout * h_1_2\n",
    "db_2 = dL_dout\n",
    "\n",
    "dL_dh = dL_dout * w_2\n",
    "dL_dz2 = dL_dh * sigmoid_derivative(z_2)\n",
    "\n",
    "dw_1 = dL_dz2 * x\n",
    "db_1 = dL_dz2\n",
    "\n",
    "\n",
    "##### WEIGHTS UPDATE\n",
    "### enter your code here\n",
    "lr = 0.01  # learning rate\n",
    "w_1 = w_1 - lr * dw_1\n",
    "w_2 = w_2 - lr * dw_2\n",
    "\n",
    "b_1 = b_1 - lr * db_1\n",
    "b_2 = b_2 - lr * db_2"
   ],
   "outputs": [],
   "execution_count": 15
  },
  {
   "cell_type": "code",
   "metadata": {
    "id": "XYX8qD7j4-tG",
    "ExecuteTime": {
     "end_time": "2025-10-30T12:24:46.667619Z",
     "start_time": "2025-10-30T12:24:46.664638Z"
    }
   },
   "source": [
    "out, h_1_2 = forward()\n",
    "print(f\"New output: {out}, Actual: {actual}\")"
   ],
   "outputs": [
    {
     "name": "stdout",
     "output_type": "stream",
     "text": [
      "New output: 1.3367603304339668, Actual: 0.36787944117144233\n"
     ]
    }
   ],
   "execution_count": 22
  },
  {
   "cell_type": "markdown",
   "metadata": {
    "id": "bWOnlNTw4-tH"
   },
   "source": [
    "Did output become closer to the actual value of the function?"
   ]
  },
  {
   "metadata": {},
   "cell_type": "markdown",
   "source": "the output is now closer to the actual value of the function after one update so we need wrap it on loop  to see better results"
  },
  {
   "cell_type": "markdown",
   "metadata": {},
   "source": [
    "### wrap things in to a loop"
   ]
  },
  {
   "cell_type": "code",
   "metadata": {
    "id": "CwZURVeL4-tH",
    "ExecuteTime": {
     "end_time": "2025-10-30T12:45:46.823883Z",
     "start_time": "2025-10-30T12:45:46.821700Z"
    }
   },
   "source": [
    "N = 50000\n",
    "lr = 0.01"
   ],
   "outputs": [],
   "execution_count": 54
  },
  {
   "cell_type": "code",
   "metadata": {
    "id": "_ALiqeJ64-tI",
    "ExecuteTime": {
     "end_time": "2025-10-30T12:45:21.788925Z",
     "start_time": "2025-10-30T12:45:21.639269Z"
    }
   },
   "source": [
    "X = np.linspace(-5.0, 5.0, 500)\n",
    "\n",
    "##### initialization\n",
    "\n",
    "w_1 = np.array([1., -1.])\n",
    "b_1 = np.array([1., 1.])\n",
    "\n",
    "w_2 = np.array([1., -1.])\n",
    "b_2 = np.array([1.])\n",
    "\n",
    "\n",
    "for i in range(N):\n",
    "    x = np.random.choice(X)\n",
    "    actual = gaussian(x)\n",
    "\n",
    "    #### FORWARD PASS\n",
    "    out, h_1_2 = forward()\n",
    "\n",
    "    #### DERIVATIVES CALCULATION\n",
    "    dL_dout = 2 * (out - actual)\n",
    "\n",
    "    dw_2 = dL_dout * h_1_2\n",
    "    db_2 = dL_dout\n",
    "\n",
    "    dL_dh = dL_dout * w_2\n",
    "    dL_dz2 = dL_dh * sigmoid_derivative(z_2)\n",
    "\n",
    "    dw_1 = dL_dz2 * x\n",
    "    db_1 = dL_dz2\n",
    "\n",
    "    ##### WEIGHTS UPDATE\n",
    "    w_1 = w_1 - lr * dw_1\n",
    "    w_2 = w_2 - lr * dw_2\n",
    "\n",
    "    b_1 = b_1 - lr * db_1\n",
    "    b_2 = b_2 - lr * db_2"
   ],
   "outputs": [],
   "execution_count": 49
  },
  {
   "cell_type": "markdown",
   "metadata": {
    "id": "19YKOkUP4-tI"
   },
   "source": [
    "Now let's plot things and see what they look like."
   ]
  },
  {
   "cell_type": "code",
   "metadata": {
    "colab": {
     "base_uri": "https://localhost:8080/",
     "height": 785
    },
    "id": "S_nnobOO4-tI",
    "outputId": "0d6368fe-b9b2-434d-e6b9-14d37060c207",
    "ExecuteTime": {
     "end_time": "2025-10-30T12:28:23.230187Z",
     "start_time": "2025-10-30T12:28:23.224809Z"
    }
   },
   "source": [
    "z1 = affine(X, w_1[0], b_1[0])\n",
    "z2 = affine(X, w_1[1], b_1[1])\n",
    "\n",
    "# Node outputs\n",
    "h1 = sigmoid(z1)\n",
    "h2 = sigmoid(z2)\n",
    "\n",
    "z3 = affine(h1, w_2[0], 0) + affine(h2, w_2[1], b_2[0])\n",
    "out = z3"
   ],
   "outputs": [],
   "execution_count": 25
  },
  {
   "metadata": {},
   "cell_type": "markdown",
   "source": "so i defined all z's and h's for plotting like in the begining"
  },
  {
   "cell_type": "code",
   "metadata": {
    "ExecuteTime": {
     "end_time": "2025-10-30T12:28:35.631470Z",
     "start_time": "2025-10-30T12:28:35.324610Z"
    }
   },
   "source": [
    "from matplotlib import pyplot as plt\n",
    "\n",
    "### Uncomment and run when z's and h's computed\n",
    "\n",
    "SIZE = 15\n",
    "\n",
    "fig, ax = plt.subplots(1,1, figsize=(14,10))\n",
    "\n",
    "ax.plot(X, gaussian(X), lw=4, ls = '-.', label='True function')\n",
    "ax.plot(X, out, lw=4, label='Perceptron')\n",
    "# ax.plot(x, h2, lw=4, label='Second neuron')\n",
    "\n",
    "# Set title\n",
    "ax.set_title('Comparison of Neuron Outputs', fontsize=SIZE)\n",
    "\n",
    "# Create labels (very important!)\n",
    "ax.set_xlabel('$x$', fontsize=SIZE) # Notice we make the labels big enough to read\n",
    "ax.set_ylabel('$y$', fontsize=SIZE)\n",
    "\n",
    "ax.tick_params(labelsize=SIZE) # Make the tick labels big enough to read\n",
    "\n",
    "ax.legend(fontsize=SIZE, loc='best') # Create a legend and make it big enough to read"
   ],
   "outputs": [
    {
     "data": {
      "text/plain": [
       "<matplotlib.legend.Legend at 0x109caaba0>"
      ]
     },
     "execution_count": 26,
     "metadata": {},
     "output_type": "execute_result"
    },
    {
     "data": {
      "text/plain": [
       "<Figure size 1400x1000 with 1 Axes>"
      ],
      "image/png": "[encoded data removed]"
     },
     "metadata": {},
     "output_type": "display_data"
    }
   ],
   "execution_count": 26
  },
  {
   "metadata": {},
   "cell_type": "markdown",
   "source": "we can see that after training the perceptron approximates the Gaussian function quite well."
  },
  {
   "cell_type": "markdown",
   "metadata": {
    "id": "46veyg1G4-tI"
   },
   "source": [
    "### Classification problem"
   ]
  },
  {
   "cell_type": "markdown",
   "metadata": {},
   "source": [
    "Fill out the code for the following classification problem. Implement:\n",
    "- foward pass\n",
    "- backward pass\n",
    "- weight updates"
   ]
  },
  {
   "cell_type": "code",
   "metadata": {
    "id": "qwljWwqZ4-tJ",
    "ExecuteTime": {
     "end_time": "2025-10-30T12:30:26.082334Z",
     "start_time": "2025-10-30T12:30:24.793725Z"
    }
   },
   "source": [
    "from sklearn.datasets import make_blobs\n",
    "from matplotlib import pyplot\n",
    "from pandas import DataFrame"
   ],
   "outputs": [],
   "execution_count": 27
  },
  {
   "cell_type": "code",
   "metadata": {
    "colab": {
     "base_uri": "https://localhost:8080/",
     "height": 449
    },
    "id": "P_mt3s464-tJ",
    "outputId": "731d18c2-bdce-495c-925e-3e3930c5e14b",
    "ExecuteTime": {
     "end_time": "2025-10-30T12:30:28.421324Z",
     "start_time": "2025-10-30T12:30:28.359062Z"
    }
   },
   "source": [
    "# generate 2d classification dataset\n",
    "X, y = make_blobs(n_samples=500, centers=2, n_features=2, random_state=0)\n",
    "# scatter plot, dots colored by class value\n",
    "df = DataFrame(dict(x=X[:,0], y=X[:,1], label=y))\n",
    "colors = {0:'red', 1:'blue'}\n",
    "fig, ax = pyplot.subplots()\n",
    "grouped = df.groupby('label')\n",
    "for key, group in grouped:\n",
    "    group.plot(ax=ax, kind='scatter', x='x', y='y', label=key, color=colors[key])\n",
    "pyplot.show()"
   ],
   "outputs": [
    {
     "data": {
      "text/plain": [
       "<Figure size 640x480 with 1 Axes>"
      ],
      "image/png": "[encoded data removed]"
     },
     "metadata": {},
     "output_type": "display_data"
    }
   ],
   "execution_count": 28
  },
  {
   "cell_type": "code",
   "metadata": {
    "id": "DR0AtdG-VzHG",
    "ExecuteTime": {
     "end_time": "2025-10-30T12:30:32.783770Z",
     "start_time": "2025-10-30T12:30:32.781541Z"
    }
   },
   "source": [
    "from sklearn.model_selection import train_test_split"
   ],
   "outputs": [],
   "execution_count": 30
  },
  {
   "cell_type": "code",
   "metadata": {
    "id": "aTpGLoyM4-tK",
    "ExecuteTime": {
     "end_time": "2025-10-30T12:30:37.429775Z",
     "start_time": "2025-10-30T12:30:37.425958Z"
    }
   },
   "source": [
    "X_train, X_test, y_train, y_test = train_test_split(X,y, test_size = 0.2, random_state=42)"
   ],
   "outputs": [],
   "execution_count": 31
  },
  {
   "cell_type": "code",
   "metadata": {
    "id": "9XXrajHy4-tL",
    "ExecuteTime": {
     "end_time": "2025-10-30T12:30:38.592917Z",
     "start_time": "2025-10-30T12:30:38.590608Z"
    }
   },
   "source": [
    "x = X_test"
   ],
   "outputs": [],
   "execution_count": 32
  },
  {
   "cell_type": "code",
   "metadata": {
    "id": "tqsyp7cP4-tL",
    "ExecuteTime": {
     "end_time": "2025-10-30T12:30:40.272463Z",
     "start_time": "2025-10-30T12:30:40.270053Z"
    }
   },
   "source": [
    "##### initialization ('ones')\n",
    "w_1 = np.array([1, 1])\n",
    "b_1 = np.array([1])"
   ],
   "outputs": [],
   "execution_count": 33
  },
  {
   "cell_type": "code",
   "metadata": {
    "id": "d1kLoXe14-tM",
    "ExecuteTime": {
     "end_time": "2025-10-30T12:40:39.034885Z",
     "start_time": "2025-10-30T12:40:39.028940Z"
    }
   },
   "source": [
    "z1 = x @ w_1 + b_1\n",
    "\n",
    "# Node outputs\n",
    "h1 = sigmoid(z1)"
   ],
   "outputs": [],
   "execution_count": 39
  },
  {
   "cell_type": "markdown",
   "metadata": {},
   "source": [
    "### Check the accuracy"
   ]
  },
  {
   "cell_type": "code",
   "metadata": {
    "colab": {
     "base_uri": "https://localhost:8080/"
    },
    "id": "8fF4CuaW4-tM",
    "outputId": "9dca9d5f-8537-4336-d67a-0ef6c118ecc8",
    "ExecuteTime": {
     "end_time": "2025-10-30T12:40:42.651754Z",
     "start_time": "2025-10-30T12:40:42.648158Z"
    }
   },
   "source": [
    "pred = [int(score > 0.5) for score in h1]\n",
    "sum(pred == y_test) / len(y_test)"
   ],
   "outputs": [
    {
     "data": {
      "text/plain": [
       "np.float64(0.45)"
      ]
     },
     "execution_count": 42,
     "metadata": {},
     "output_type": "execute_result"
    }
   ],
   "execution_count": 42
  },
  {
   "metadata": {},
   "cell_type": "markdown",
   "source": "so the initial accuracy is not random which is default for binary classification"
  },
  {
   "cell_type": "markdown",
   "metadata": {},
   "source": [
    "### generalization ==> wrap into a proper loop"
   ]
  },
  {
   "cell_type": "code",
   "execution_count": 310,
   "metadata": {
    "id": "Y8ApyfZ44-tN"
   },
   "outputs": [],
   "source": [
    "### Loop"
   ]
  },
  {
   "cell_type": "code",
   "metadata": {
    "id": "0WI6JeeH4-tO",
    "ExecuteTime": {
     "end_time": "2025-10-30T12:45:37.036609Z",
     "start_time": "2025-10-30T12:45:37.034925Z"
    }
   },
   "source": [
    "N = 10000 # epochs"
   ],
   "outputs": [],
   "execution_count": 51
  },
  {
   "cell_type": "code",
   "metadata": {
    "id": "LdOMCniR4-tO",
    "ExecuteTime": {
     "end_time": "2025-10-30T12:45:43.007213Z",
     "start_time": "2025-10-30T12:45:40.799588Z"
    }
   },
   "source": [
    "batch_size = 10 # 2, 4, 8, 16, 32, ... 10 is also an example\n",
    "\n",
    "##### initialization\n",
    "\n",
    "w_1 = np.array([1.,1.])\n",
    "b_1 = np.array([1.])\n",
    "\n",
    "\n",
    "for i in range(N):\n",
    "    perm = np.random.permutation(len(X_train))\n",
    "    X_train = X_train[perm]\n",
    "    y_train = y_train[perm]\n",
    "\n",
    "    for batch_id in range(int(len(X_train)/batch_size)):\n",
    "        x = X_train[batch_id*batch_size:(batch_id+1)*batch_size]\n",
    "        y = y_train[batch_id*batch_size:(batch_id+1)*batch_size]\n",
    "\n",
    "        m = x.shape[0]\n",
    "        #### FORWARD PASS\n",
    "        z_1 = x @ w_1 + b_1 # linear step\n",
    "        h_1 = sigmoid(z_1) # activation step\n",
    "\n",
    "\n",
    "        #### DERIVATIVES CALCULATION\n",
    "        error = h_1 - y # shape (batch_size, )\n",
    "        dw1 = (x.T @ error) / m  # shape (n_features, )\n",
    "        db1 = np.sum(error) / m  # shape (1, )\n",
    "\n",
    "\n",
    "        ##### WEIGHTS UPDATE\n",
    "        w_1 = w_1 - lr * dw1\n",
    "        b_1 = b_1 - lr * db1"
   ],
   "outputs": [],
   "execution_count": 52
  },
  {
   "cell_type": "code",
   "metadata": {
    "id": "jvylL_nVXCW3",
    "ExecuteTime": {
     "end_time": "2025-10-30T12:45:44.449164Z",
     "start_time": "2025-10-30T12:45:44.446541Z"
    }
   },
   "source": [
    "from sklearn.metrics import accuracy_score"
   ],
   "outputs": [],
   "execution_count": 53
  },
  {
   "cell_type": "code",
   "metadata": {
    "colab": {
     "base_uri": "https://localhost:8080/"
    },
    "id": "jq-9EqhK4-tO",
    "outputId": "255da8a0-1765-4f7b-fd60-ad66e088d7e0",
    "ExecuteTime": {
     "end_time": "2025-10-30T12:45:56.771863Z",
     "start_time": "2025-10-30T12:45:56.765339Z"
    }
   },
   "source": [
    "### check the accuracy on the test set\n",
    "y_pred = sigmoid(X_test @ w_1 + b_1)\n",
    "accuracy_score(y_test, y_pred > 0.5)"
   ],
   "outputs": [
    {
     "data": {
      "text/plain": [
       "0.95"
      ]
     },
     "execution_count": 55,
     "metadata": {},
     "output_type": "execute_result"
    }
   ],
   "execution_count": 55
  },
  {
   "metadata": {},
   "cell_type": "markdown",
   "source": "the accuracy improved after training the perceptron on the training set and now it is significantly higher than random guessing. I think with more epochs and better hyperparameters it can be improved even further, but for the sake of this assignment I will stop here"
  }
 ],
 "metadata": {
  "colab": {
   "provenance": [],
   "toc_visible": true
  },
  "kernelspec": {
   "display_name": "Python 3 (ipykernel)",
   "language": "python",
   "name": "python3"
  },
  "language_info": {
   "codemirror_mode": {
    "name": "ipython",
    "version": 3
   },
   "file_extension": ".py",
   "mimetype": "text/x-python",
   "name": "python",
   "nbconvert_exporter": "python",
   "pygments_lexer": "ipython3",
   "version": "3.9.12"
  }
 },
 "nbformat": 4,
 "nbformat_minor": 1
}
